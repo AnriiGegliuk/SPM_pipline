{
 "cells": [
  {
   "cell_type": "code",
   "execution_count": 1,
   "metadata": {},
   "outputs": [],
   "source": [
    "import os\n",
    "import nibabel as nib\n",
    "import numpy as np\n",
    "from scipy.ndimage import binary_fill_holes"
   ]
  },
  {
   "cell_type": "code",
   "execution_count": 4,
   "metadata": {},
   "outputs": [],
   "source": [
    "# c1 = nib.load('c1T2.nii')\n",
    "# c2 = nib.load('c2T2.nii')\n",
    "# c3 = nib.load('c3T2.nii')\n",
    "\n",
    "# c1_data = c1.get_fdata()\n",
    "# c2_data = c2.get_fdata()\n",
    "# c3_data = c3.get_fdata()\n",
    "\n",
    "# mask = np.zeros(c1_data.shape, dtype=c1_data.dtype)\n",
    "# mask[(c1_data > 0) | (c2_data > 0) | (c3_data > 0)] = 1\n",
    "# filled_mask = binary_fill_holes(mask).astype(mask.dtype)\n",
    "\n",
    "# filled_mask_img = nib.Nifti1Image(filled_mask, c1.affine, c1.header)\n",
    "# nib.save(filled_mask_img, 'brain_mask_filled.nii')"
   ]
  },
  {
   "cell_type": "code",
   "execution_count": 2,
   "metadata": {},
   "outputs": [],
   "source": [
    "def brain_mask_generation(dir_path):\n",
    "    # looking for 3 files\n",
    "    c1_path = os.path.join(dir_path, 'c1T2.nii')\n",
    "    c2_path = os.path.join(dir_path, 'c2T2.nii')\n",
    "    c3_path = os.path.join(dir_path, 'c3T2.nii')\n",
    "\n",
    "    print(f\"Looking for c1 at {c1_path}\")\n",
    "    print(f\"Looking for c2 at {c2_path}\")\n",
    "    print(f\"Looking for c3 at {c3_path}\")\n",
    "\n",
    "    # giving an error message if path our files not exist\n",
    "    if not os.path.exists(c1_path) or not os.path.exists(c2_path) or not os.path.exists(c3_path):\n",
    "        return print(\"One or more required files do not exist in the specified directory.\")\n",
    "    \n",
    "    # loading data\n",
    "    c1 = nib.load(c1_path)\n",
    "    c2 = nib.load(c2_path)\n",
    "    c3 = nib.load(c3_path)\n",
    "\n",
    "    # loading data as an image\n",
    "    c1_data = c1.get_fdata()\n",
    "    c2_data = c2.get_fdata()\n",
    "    c3_data = c3.get_fdata()\n",
    "\n",
    "    mask = np.zeros(c1_data.shape, dtype=c1_data.dtype)\n",
    "    mask[(c1_data > 0) | (c2_data > 0) | (c3_data > 0)] = 1\n",
    "    filled_mask = binary_fill_holes(mask).astype(mask.dtype)\n",
    "\n",
    "    # saving mask as img\n",
    "    filled_mask_img = nib.Nifti1Image(filled_mask, c1.affine, c1.header)\n",
    "    output_path = os.path.join(dir_path, 'brain_mask_filled.nii')\n",
    "    nib.save(filled_mask_img, output_path)\n",
    "    print(f\"Saved filled brain mask to {output_path}\")"
   ]
  },
  {
   "cell_type": "code",
   "execution_count": 3,
   "metadata": {},
   "outputs": [],
   "source": [
    "# to confirm directory and files inside directory VS code is connected to WSL Ubuntu\n",
    "def list_files(dir_path):\n",
    "    with os.scandir(dir_path) as entries:\n",
    "        for entry in entries:\n",
    "            print(entry.name)"
   ]
  },
  {
   "cell_type": "code",
   "execution_count": 4,
   "metadata": {},
   "outputs": [
    {
     "name": "stdout",
     "output_type": "stream",
     "text": [
      "Files in directory:\n",
      "BiasField_T2.nii\n",
      "c1T2.nii\n",
      "c2T2.nii\n",
      "c3T2.nii\n",
      "c4T2.nii\n",
      "c5T2.nii\n",
      "iy_T2.nii\n",
      "mT2.nii\n",
      "mwc1T2.nii\n",
      "mwc2T2.nii\n",
      "mwc3T2.nii\n",
      "rc1T2.nii\n",
      "rc2T2.nii\n",
      "rc3T2.nii\n",
      "T2.nii\n",
      "T2_seg8.mat\n",
      "wc1T2.nii\n",
      "wc2T2.nii\n",
      "wc3T2.nii\n",
      "y_T2.nii\n"
     ]
    }
   ],
   "source": [
    "directory_path = \"/mnt/c/preprocessing/HF2_s5/1st\"\n",
    "print(\"Files in directory:\")\n",
    "list_files(directory_path)"
   ]
  },
  {
   "cell_type": "code",
   "execution_count": 5,
   "metadata": {},
   "outputs": [
    {
     "name": "stdout",
     "output_type": "stream",
     "text": [
      "Looking for c1 at /mnt/c/preprocessing/HF2_s5/1st/c1T2.nii\n",
      "Looking for c2 at /mnt/c/preprocessing/HF2_s5/1st/c2T2.nii\n",
      "Looking for c3 at /mnt/c/preprocessing/HF2_s5/1st/c3T2.nii\n",
      "Saved filled brain mask to /mnt/c/preprocessing/HF2_s5/1st/brain_mask_filled.nii\n"
     ]
    }
   ],
   "source": [
    "directory_path = '/mnt/c/preprocessing/HF2_s5/1st' \n",
    "brain_mask_generation(directory_path)"
   ]
  }
 ],
 "metadata": {
  "kernelspec": {
   "display_name": "base",
   "language": "python",
   "name": "python3"
  },
  "language_info": {
   "codemirror_mode": {
    "name": "ipython",
    "version": 3
   },
   "file_extension": ".py",
   "mimetype": "text/x-python",
   "name": "python",
   "nbconvert_exporter": "python",
   "pygments_lexer": "ipython3",
   "version": "3.10.9"
  },
  "orig_nbformat": 4
 },
 "nbformat": 4,
 "nbformat_minor": 2
}
