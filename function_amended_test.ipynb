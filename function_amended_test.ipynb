{
 "cells": [
  {
   "cell_type": "code",
   "execution_count": 1,
   "metadata": {},
   "outputs": [],
   "source": [
    "import pandas as pd\n",
    "import numpy as np\n",
    "import nibabel as nib\n",
    "\n",
    "from production.main_function import align_to_template_w_intens, rotate_axial_slices"
   ]
  },
  {
   "cell_type": "code",
   "execution_count": 13,
   "metadata": {},
   "outputs": [],
   "source": [
    "test_img = nib.load('../data/raw-data/Yagishita_Sharapova_20230817_HF2_S4_icr_t2only.nii')\n",
    "test_data_img = test_img.get_fdata()"
   ]
  },
  {
   "cell_type": "code",
   "execution_count": 14,
   "metadata": {},
   "outputs": [
    {
     "data": {
      "text/plain": [
       "(128, 160, 96)"
      ]
     },
     "execution_count": 14,
     "metadata": {},
     "output_type": "execute_result"
    }
   ],
   "source": [
    "test_img.shape"
   ]
  },
  {
   "cell_type": "code",
   "execution_count": 15,
   "metadata": {},
   "outputs": [
    {
     "data": {
      "text/plain": [
       "749.5165062099695"
      ]
     },
     "execution_count": 15,
     "metadata": {},
     "output_type": "execute_result"
    }
   ],
   "source": [
    "np.max(test_data_img)"
   ]
  },
  {
   "cell_type": "code",
   "execution_count": 16,
   "metadata": {},
   "outputs": [
    {
     "name": "stdout",
     "output_type": "stream",
     "text": [
      "<class 'nibabel.nifti1.Nifti1Header'> object, endian='<'\n",
      "sizeof_hdr      : 348\n",
      "data_type       : b''\n",
      "db_name         : b''\n",
      "extents         : 16384\n",
      "session_error   : 0\n",
      "regular         : b'r'\n",
      "dim_info        : 54\n",
      "dim             : [  3 128 160  96   0   0   0   0]\n",
      "intent_p1       : 0.0\n",
      "intent_p2       : 0.0\n",
      "intent_p3       : 0.0\n",
      "intent_code     : none\n",
      "datatype        : int16\n",
      "bitpix          : 16\n",
      "slice_start     : 0\n",
      "pixdim          : [1.  0.1 0.1 0.1 0.  0.  0.  0. ]\n",
      "vox_offset      : 0.0\n",
      "scl_slope       : nan\n",
      "scl_inter       : nan\n",
      "slice_end       : 95\n",
      "slice_code      : unknown\n",
      "xyzt_units      : 2\n",
      "cal_max         : 32766.0\n",
      "cal_min         : 5.0\n",
      "slice_duration  : 0.0\n",
      "toffset         : 0.0\n",
      "glmax           : 32767\n",
      "glmin           : -32768\n",
      "descrip         : b'Yagishita-Sharapova/20230817_hf2-s4-icr-t2only/4/4'\n",
      "aux_file        : b''\n",
      "qform_code      : scanner\n",
      "sform_code      : unknown\n",
      "quatern_b       : -0.70710677\n",
      "quatern_c       : -2.1648902e-17\n",
      "quatern_d       : -2.1648902e-17\n",
      "qoffset_x       : -6.4\n",
      "qoffset_y       : -3.27732\n",
      "qoffset_z       : 8.8076\n",
      "srow_x          : [0. 0. 0. 0.]\n",
      "srow_y          : [0. 0. 0. 0.]\n",
      "srow_z          : [0. 0. 0. 0.]\n",
      "intent_name     : b''\n",
      "magic           : b'n+1'\n"
     ]
    }
   ],
   "source": [
    "print(test_img.header)"
   ]
  },
  {
   "cell_type": "code",
   "execution_count": 17,
   "metadata": {},
   "outputs": [],
   "source": [
    "average_img_template = nib.load('../data/raw-data/AverageT2 (1).nii')\n",
    "data_average_template = average_img_template.get_fdata()"
   ]
  },
  {
   "cell_type": "code",
   "execution_count": 18,
   "metadata": {},
   "outputs": [],
   "source": [
    "aligned_test_data, test_header = align_to_template_w_intens(test_data_img, test_img.header, average_img_template.header)"
   ]
  },
  {
   "cell_type": "code",
   "execution_count": 19,
   "metadata": {},
   "outputs": [],
   "source": [
    "rotated_aligned_img_data = rotate_axial_slices(aligned_test_data)\n",
    "\n",
    "rotated_aligned_img = nib.Nifti1Image(rotated_aligned_img_data, None, header=test_header)\n",
    "\n",
    "nib.save(rotated_aligned_img, 'data/after_affine/after_transformations_rotated_v2_v1.nii')"
   ]
  },
  {
   "attachments": {},
   "cell_type": "markdown",
   "metadata": {},
   "source": [
    "# MRI data"
   ]
  },
  {
   "cell_type": "code",
   "execution_count": 10,
   "metadata": {},
   "outputs": [],
   "source": [
    "loaded_img = nib.load('data/after_affine/after_transformations_rotated_v2.nii')\n",
    "loaded_img_data = loaded_img.get_fdata()"
   ]
  },
  {
   "cell_type": "code",
   "execution_count": 11,
   "metadata": {},
   "outputs": [
    {
     "name": "stdout",
     "output_type": "stream",
     "text": [
      "<class 'nibabel.nifti1.Nifti1Header'> object, endian='<'\n",
      "sizeof_hdr      : 348\n",
      "data_type       : b''\n",
      "db_name         : b''\n",
      "extents         : 16384\n",
      "session_error   : 0\n",
      "regular         : b'r'\n",
      "dim_info        : 54\n",
      "dim             : [  3 128 160  96   0   0   0   0]\n",
      "intent_p1       : 0.0\n",
      "intent_p2       : 0.0\n",
      "intent_p3       : 0.0\n",
      "intent_code     : none\n",
      "datatype        : int16\n",
      "bitpix          : 16\n",
      "slice_start     : 0\n",
      "pixdim          : [1.  0.1 0.1 0.1 0.  0.  0.  0. ]\n",
      "vox_offset      : 0.0\n",
      "scl_slope       : nan\n",
      "scl_inter       : nan\n",
      "slice_end       : 95\n",
      "slice_code      : unknown\n",
      "xyzt_units      : 2\n",
      "cal_max         : 32766.0\n",
      "cal_min         : 5.0\n",
      "slice_duration  : 0.0\n",
      "toffset         : 0.0\n",
      "glmax           : 32767\n",
      "glmin           : -32768\n",
      "descrip         : b'Yagishita-Sharapova/20230817_hf2-s4-icr-t2only/4/4'\n",
      "aux_file        : b''\n",
      "qform_code      : aligned\n",
      "sform_code      : aligned\n",
      "quatern_b       : 0.0\n",
      "quatern_c       : 1.0\n",
      "quatern_d       : 0.0\n",
      "qoffset_x       : 55.0\n",
      "qoffset_y       : -95.0\n",
      "qoffset_z       : -75.0\n",
      "srow_x          : [-10.   0.   0. 550.]\n",
      "srow_y          : [   0.   10.    0. -950.]\n",
      "srow_z          : [   0.    0.   10. -750.]\n",
      "intent_name     : b''\n",
      "magic           : b'n+1'\n"
     ]
    }
   ],
   "source": [
    "print(loaded_img.header)"
   ]
  }
 ],
 "metadata": {
  "kernelspec": {
   "display_name": "base",
   "language": "python",
   "name": "python3"
  },
  "language_info": {
   "codemirror_mode": {
    "name": "ipython",
    "version": 3
   },
   "file_extension": ".py",
   "mimetype": "text/x-python",
   "name": "python",
   "nbconvert_exporter": "python",
   "pygments_lexer": "ipython3",
   "version": "3.10.9"
  },
  "orig_nbformat": 4
 },
 "nbformat": 4,
 "nbformat_minor": 2
}
