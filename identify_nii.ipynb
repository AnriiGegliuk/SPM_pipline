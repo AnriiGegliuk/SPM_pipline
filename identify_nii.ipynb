{
 "cells": [
  {
   "cell_type": "code",
   "execution_count": 1,
   "metadata": {},
   "outputs": [],
   "source": [
    "import os\n",
    "from collections import defaultdict"
   ]
  },
  {
   "cell_type": "code",
   "execution_count": 4,
   "metadata": {},
   "outputs": [],
   "source": [
    "def find_images(folder_path):\n",
    "    \"\"\"\n",
    "    This function traverses through the given folder and its subfolders to detect \n",
    "    and count the '.nii', '.dcm', and other files. It prints the counts, paths, \n",
    "    and the folder with the most '.nii' files.\n",
    "\n",
    "    :param folder_path: The path to the folder to be searched.\n",
    "    :return: A dictionary containing the count and list of paths of '.nii' and '.dcm' files.\n",
    "    \"\"\"\n",
    "    medical_images = defaultdict(lambda: {'count': 0, 'paths': []})\n",
    "    most_nii_folder = {'folder': None, 'count': 0}\n",
    "    \n",
    "    for foldername, subfolders, filenames in os.walk(folder_path):\n",
    "        local_nii_count = 0\n",
    "        total_files_count = len(filenames)\n",
    "        \n",
    "        for filename in filenames:\n",
    "            if filename.endswith('.nii'):\n",
    "                medical_images['.nii']['count'] += 1\n",
    "                medical_images['.nii']['paths'].append(os.path.join(foldername, filename))\n",
    "                local_nii_count += 1\n",
    "            elif filename.endswith('.dcm'):\n",
    "                medical_images['.dcm']['count'] += 1\n",
    "                medical_images['.dcm']['paths'].append(os.path.join(foldername, filename))\n",
    "        \n",
    "        if local_nii_count > most_nii_folder['count']:\n",
    "            most_nii_folder = {'folder': foldername, 'count': local_nii_count}\n",
    "        \n",
    "        print(f\"Total number of files in folder '{foldername}': {total_files_count}\")\n",
    "    \n",
    "    print(\"Number of .nii files: \", medical_images['.nii']['count'])\n",
    "    print(\"Paths of .nii files: \", medical_images['.nii']['paths'])\n",
    "    print(\"Number of .dcm files: \", medical_images['.dcm']['count'])\n",
    "    print(\"Paths of .dcm files: \", medical_images['.dcm']['paths'])\n",
    "    \n",
    "    if most_nii_folder['folder']:\n",
    "        print(f\"The folder '{most_nii_folder['folder']}' contains the most .nii files: {most_nii_folder['count']}\")\n",
    "    \n",
    "    return medical_images"
   ]
  },
  {
   "cell_type": "code",
   "execution_count": 5,
   "metadata": {},
   "outputs": [
    {
     "name": "stdout",
     "output_type": "stream",
     "text": [
      "Total number of files in folder '/mnt/c/preprocessing/HF2_s5': 1\n",
      "Total number of files in folder '/mnt/c/preprocessing/HF2_s5/1st': 20\n",
      "Total number of files in folder '/mnt/c/preprocessing/HF2_s5/2nd': 1\n",
      "Total number of files in folder '/mnt/c/preprocessing/HF2_s5/3rd': 0\n",
      "Number of .nii files:  21\n",
      "Paths of .nii files:  ['/mnt/c/preprocessing/HF2_s5/Yagishita_Sharapova_20230920_hf2_s5_icr_t2only_4_1_1.nii', '/mnt/c/preprocessing/HF2_s5/1st/BiasField_T2.nii', '/mnt/c/preprocessing/HF2_s5/1st/c1T2.nii', '/mnt/c/preprocessing/HF2_s5/1st/c2T2.nii', '/mnt/c/preprocessing/HF2_s5/1st/c3T2.nii', '/mnt/c/preprocessing/HF2_s5/1st/c4T2.nii', '/mnt/c/preprocessing/HF2_s5/1st/c5T2.nii', '/mnt/c/preprocessing/HF2_s5/1st/iy_T2.nii', '/mnt/c/preprocessing/HF2_s5/1st/mT2.nii', '/mnt/c/preprocessing/HF2_s5/1st/mwc1T2.nii', '/mnt/c/preprocessing/HF2_s5/1st/mwc2T2.nii', '/mnt/c/preprocessing/HF2_s5/1st/mwc3T2.nii', '/mnt/c/preprocessing/HF2_s5/1st/rc1T2.nii', '/mnt/c/preprocessing/HF2_s5/1st/rc2T2.nii', '/mnt/c/preprocessing/HF2_s5/1st/rc3T2.nii', '/mnt/c/preprocessing/HF2_s5/1st/T2.nii', '/mnt/c/preprocessing/HF2_s5/1st/wc1T2.nii', '/mnt/c/preprocessing/HF2_s5/1st/wc2T2.nii', '/mnt/c/preprocessing/HF2_s5/1st/wc3T2.nii', '/mnt/c/preprocessing/HF2_s5/1st/y_T2.nii', '/mnt/c/preprocessing/HF2_s5/2nd/T2.nii']\n",
      "Number of .dcm files:  0\n",
      "Paths of .dcm files:  []\n",
      "The folder '/mnt/c/preprocessing/HF2_s5/1st' contains the most .nii files: 19\n"
     ]
    }
   ],
   "source": [
    "folder_path = \"/mnt/c/preprocessing/HF2_s5\"\n",
    "medical_images = find_images(folder_path)"
   ]
  }
 ],
 "metadata": {
  "kernelspec": {
   "display_name": "base",
   "language": "python",
   "name": "python3"
  },
  "language_info": {
   "codemirror_mode": {
    "name": "ipython",
    "version": 3
   },
   "file_extension": ".py",
   "mimetype": "text/x-python",
   "name": "python",
   "nbconvert_exporter": "python",
   "pygments_lexer": "ipython3",
   "version": "3.10.9"
  },
  "orig_nbformat": 4
 },
 "nbformat": 4,
 "nbformat_minor": 2
}
